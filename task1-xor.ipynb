{
 "cells": [
  {
   "cell_type": "markdown",
   "metadata": {},
   "source": [
    "## Columbia University\n",
    "### ECBM E4040 Neural Networks and Deep Learning. Fall 2024."
   ]
  },
  {
   "cell_type": "markdown",
   "metadata": {},
   "source": [
    "## **Task 1: XOR** (50%)"
   ]
  },
  {
   "cell_type": "code",
   "execution_count": 9,
   "metadata": {},
   "outputs": [
    {
     "name": "stdout",
     "output_type": "stream",
     "text": [
      "Using GPU(0): PhysicalDevice(name='/physical_device:GPU:0', device_type='GPU')\n",
      "The autoreload extension is already loaded. To reload it, use:\n",
      "  %reload_ext autoreload\n",
      "2.4.0\n"
     ]
    }
   ],
   "source": [
    "# Import modules\n",
    "from __future__ import print_function\n",
    "import tensorflow as tf\n",
    "\n",
    "physical_devices = tf.config.experimental.list_physical_devices('GPU')\n",
    "if len(physical_devices) > 0:\n",
    "    print('Using GPU(0):', physical_devices[0])\n",
    "    tf.config.experimental.set_memory_growth(physical_devices[0], enable=True)\n",
    "else:\n",
    "    print('Using CPU')\n",
    "\n",
    "import numpy as np\n",
    "from numpy.random import shuffle\n",
    "import time\n",
    "import matplotlib.pyplot as plt\n",
    "\n",
    "# Plot configurations\n",
    "%matplotlib inline\n",
    "\n",
    "# Notebook auto reload code. (Ref: http://stackoverflow.com/questions/1907993/autoreload-of-modules-in-ipython)\n",
    "%load_ext autoreload\n",
    "%autoreload 2\n",
    "print(tf.__version__)"
   ]
  },
  {
   "cell_type": "markdown",
   "metadata": {},
   "source": [
    "##  Part 1: Backpropagation Through Time (10%)"
   ]
  },
  {
   "cell_type": "markdown",
   "metadata": {},
   "source": [
    "**Question:** Consider some input data $x_1, x_2$ and ground truth $p_1, p_2$ (the indices denote different time steps), a simple RNN network is shown in the following figure. \n",
    "\n",
    "![bptt](./img/bptt2.jpg)\n",
    "\n",
    "Here, $w_x, w_h, b_1, w, b_2 \\in R$ are scalar parameters. The loss function is **Mean Squared Error (MSE)**. "
   ]
  },
  {
   "cell_type": "markdown",
   "metadata": {},
   "source": [
    "<font color=\"red\"><strong>TODO:</strong></font>\n",
    "\n",
    "Assume the input $(x_1, x_2) = (1, -1)$, ground truth $(p_1, p_2) = (0, 1)$, $h_0 = 0$, and $(w_x, w_h, b_1, w, b_2) = (1, -2, 3, 2, 1)$, derive both the forward and backward pass (keep $4$ digits after the decimal). "
   ]
  },
  {
   "cell_type": "markdown",
   "metadata": {},
   "source": [
    "<font color=\"red\"><strong>Hint:</strong></font> The sigmoid function and its derivative\n",
    "\n",
    "$$\n",
    "\\sigma (x) = \\frac{1}{1 + e^{-x}}, \\quad\n",
    "\\nabla_x \\sigma (x) = \\frac{e^{-x}}{1 + e^{-x}} = \\sigma (x) (1 - \\sigma (x))\n",
    "$$\n",
    "\n",
    "- Derive the equations and intermediate variables first before plugging in values, don't just fill in the answers\n",
    "- Use LaTeX-style equations\n",
    "- Your derivations don't need to be wrapped with special color :)"
   ]
  },
  {
   "cell_type": "markdown",
   "metadata": {},
   "source": [
    "<font color=\"red\"><strong>Asnwer:</strong></font>\n",
    "\n",
    "$$\\text{Your Derivations Here.}$$\n",
    "\n",
    "- The gradients\n",
    "\n",
    "$$\n",
    "\\begin{cases}\n",
    "\\nabla_{w_x} L = \\color{cyan}{\\frac{\\partial \\text{MSE}}{\\partial w_x} = \\sum_{t=1}^2 \\frac{\\partial \\text{MSE}}{\\partial h_t} \\cdot \\frac{\\partial h_t}{\\partial z_{h,t}} \\cdot \\frac{\\partial z_{h,t}}{\\partial w_x} = \\sum_{t=1}^2 (y_t - p_t) \\cdot y_t \\cdot (1 - y_t) \\cdot h_t = \\color{cyan}−0.0242⋅0.2499⋅(−1) + 0.0995⋅0.0176⋅1 = 0.0078\n",
    "}\\\\\n",
    "\\nabla_{w_h} L = \\color{cyan}{\\frac{\\partial \\text{MSE}}{\\partial w_h} = \\sum_{t=1}^2 \\frac{\\partial \\text{MSE}}{\\partial h_t} \\cdot \\frac{\\partial h_t}{\\partial z_{h,t}} \\cdot \\frac{\\partial z_{h,t}}{\\partial w_h},\n",
    "for \\ each \\ step\\\\\n",
    "\\frac{\\partial z_{h,t}}{\\partial w_h} = h_{t-1} = >\n",
    "\\nabla_{w_h} L = 0.0995⋅0.0176⋅0 − 0.0242⋅0.2499⋅0.982 = -0.0061 + (−0.0242)⋅0.2499 = -0.0042\n",
    " } \\\\\n",
    "\\nabla_{b_1} L = \\color{cyan}{\\frac{\\partial \\text{MSE}}{\\partial b_1} = \\sum_{t=1}^2 \\frac{\\partial \\text{MSE}}{\\partial h_t} \\cdot \\frac{\\partial h_t}{\\partial z_{h,t}} \\cdot \\frac{\\partial z_{h,t}}{\\partial b_1} = 0.0995⋅0.0176 + } \\\\\n",
    "\\nabla_{w} L = \\color{cyan}{\\frac{\\partial \\text{MSE}}{\\partial w} = \\sum_{t=1}^2 \\frac{\\partial \\text{MSE}}{\\partial y_t} \\cdot \\frac{\\partial y_t}{\\partial z_t} \\cdot = \\frac{\\partial z_t}{\\partial w} = 0.9509⋅0.0459⋅0.9820 − 0.1173⋅0.1034⋅0.509 = 0.037 \n",
    "} \\\\\n",
    "\\nabla_{b_2} L = \\color{cyan}{\\frac{\\partial \\text{MSE}}{\\partial b_2} = \\sum_{t=1}^2 \\frac{\\partial \\text{MSE}}{\\partial y_t} \\cdot \\frac{\\partial y_t}{\\partial z_t} \\cdot \\frac{\\partial z_t}{\\partial b_2}, \n",
    "for each step \\frac{\\partial z_t}{\\partial b_2} = 1,\n",
    "substituting \\frac{\\partial \\text{MSE}}{\\partial b_2} = \\sum_{t=1}^2 (y_t - p_t) \\cdot y_t \\cdot (1 - y_t),\n",
    "eventually,\n",
    "\\nabla_{b_2} L = 0.9509⋅0.0459⋅1 + −0.1173⋅0.1034⋅1 = 0.032\n",
    "} \\\\\n",
    "\\end{cases}\n",
    "$$"
   ]
  },
  {
   "cell_type": "markdown",
   "metadata": {},
   "source": [
    "Note: The depencies may not be completely clear on my derivations, that's why i have also provided the step-by-step calculations which have been verified by a python script. Given the importance of this homework's grade due to the bad exam result of mine, please let me know if you need me to provide you my script or further explanation of my derivation"
   ]
  },
  {
   "cell_type": "markdown",
   "metadata": {},
   "source": [
    "## Part 2: Use TensorFlow modules to create XOR network (15%)\n",
    "\n",
    "In this part, you need to build and train an XOR network that can learn the XOR function. It is a very simple implementation of RNN and will give you an idea of how RNN is built and how to train it."
   ]
  },
  {
   "cell_type": "markdown",
   "metadata": {},
   "source": [
    "### XOR network\n",
    "\n",
    "![xnor_net](./img/xnor.png)\n",
    "\n",
    "XOR network can learn the XOR ($\\oplus$) function. If the input is\n",
    "\n",
    "$$\n",
    "(x_0, ..., x_7) = (0, 0, 1, 1, 1, 1, 1, 0)\n",
    "$$\n",
    "\n",
    "Then, the output should be\n",
    "\n",
    "$$\n",
    "(y_0, ..., y_7) = (0, 0, 1, 0, 1, 0, 1, 1)\n",
    "$$\n",
    "\n",
    "That is, \n",
    "\n",
    "$$\n",
    "y_n = x_0 \\oplus x_1 \\oplus ... \\oplus x_{n-1} \\oplus x_{n}\n",
    "$$\n",
    "\n",
    "It is also interesting to realize that the equation effectively equivalates to \n",
    "\n",
    "$$\n",
    "y_i = \\sum_{j = 0}^i x_j \\mod 2\n",
    "$$"
   ]
  },
  {
   "cell_type": "markdown",
   "metadata": {},
   "source": [
    "### Create a Dataset\n",
    "This function provides a way to generate the data that is needed for the training process. You should utilize it when building your training function for the GRU. Read the source code for more information."
   ]
  },
  {
   "cell_type": "code",
   "execution_count": 10,
   "metadata": {},
   "outputs": [],
   "source": [
    "from utils.dataset import create_xor_dataset"
   ]
  },
  {
   "cell_type": "code",
   "execution_count": 11,
   "metadata": {},
   "outputs": [
    {
     "data": {
      "text/plain": [
       "(array([[[1],\n",
       "         [1],\n",
       "         [0],\n",
       "         [0],\n",
       "         [0],\n",
       "         [0],\n",
       "         [1],\n",
       "         [0]]]),\n",
       " array([[1, 0, 0, 0, 0, 0, 1, 1]]))"
      ]
     },
     "execution_count": 11,
     "metadata": {},
     "output_type": "execute_result"
    }
   ],
   "source": [
    "create_xor_dataset(1)"
   ]
  },
  {
   "cell_type": "markdown",
   "metadata": {},
   "source": [
    "### Build a Network using a TensorFlow LSTMCell and GRUCell\n",
    "\n",
    "In this section, you are asked to build an XOR network using a TensorFlow LSTMCell and a GRUCell. In TensorFlow 2, these two cells are supported by Keras. Please check the online documents below.\n",
    "\n",
    "Use TensorFlow to build and train your XOR network. The dataset is already provided. You will do the following:\n",
    "- Learn how to use `tf.keras.layers.LSTM` and `tf.keras.layers.GRU` in TensorFlow(Keras). \n",
    "- Choose appropriate parameters to build a model (Sequential Model in Keras is suggested). \n",
    "- Compile your model with appropriate loss function, optimizer, metrics, etc.\n",
    "- Train your model and see the loss history.\n",
    "\n",
    "Tips: \n",
    "1. Make sure that the shape of your data is correct after every step.\n",
    "2. Choose your loss function according to your network design.\n",
    "3. Choose 'accuracy' as your metric when compiling your model.\n",
    "4. Make sure that the names of the history for the network with LSTMCell and GRUCell (which you used while training) are the same as the ones in the plotting functions.\n",
    "4. Feel free to consult the TAs if you get stuck somewhere.\n",
    "\n",
    "Reference: \n",
    "1. [TensorFlow(Keras): Working with RNNs](https://keras.io/guides/working_with_rnns/)\n",
    "2. [TensorFlow: Recurrent Neural Networks (RNN) with Keras](https://www.tensorflow.org/guide/keras/rnn)\n",
    "3. [TensorFlow LSTM Cell](https://www.tensorflow.org/api_docs/python/tf/keras/layers/LSTM)\n",
    "4. [TensorFlow GRU Cell](https://www.tensorflow.org/api_docs/python/tf/keras/layers/GRU)\n",
    "5. [TensorFlow: Sequential Model](https://www.tensorflow.org/guide/keras/sequential_model)\n"
   ]
  },
  {
   "cell_type": "markdown",
   "metadata": {},
   "source": [
    "### Build a Network with LSTM"
   ]
  },
  {
   "cell_type": "code",
   "execution_count": 12,
   "metadata": {
    "pycharm": {
     "is_executing": true
    }
   },
   "outputs": [
    {
     "name": "stdout",
     "output_type": "stream",
     "text": [
      "Input data: (1000, 8, 1) int64\n",
      "Labels: (1000, 8) int64\n"
     ]
    }
   ],
   "source": [
    "in_data, out_data = create_xor_dataset(1000) # Create a dataset with a batch size of 1000\n",
    "print('Input data:', in_data.shape, in_data.dtype)\n",
    "print('Labels:', out_data.shape, out_data.dtype)"
   ]
  },
  {
   "cell_type": "markdown",
   "metadata": {},
   "source": [
    "#### Interpreting RNN Inputs\n",
    "\n",
    "Typically, the input data of an RNN has the form of\n",
    "\n",
    "$$\n",
    "X \\in R^{T \\times N \\times D}\n",
    "$$\n",
    "\n",
    "where $T$ is ***the number of time steps***, $N$ is the batch size and $D$ is the dimension of each input. \n",
    "\n",
    "At each time step $t$, we feed\n",
    "\n",
    "$$\n",
    "X_t \\in R^{N \\times D}\n",
    "$$\n",
    "\n",
    "into the RNN to generate an output (i.e. the hidden state) $h_t \\in R^{N \\times K}$. \n",
    "\n",
    "Some tasks only take interest in the final output $h_T$, while others need the output from all of the time steps as \n",
    "\n",
    "$$\n",
    "H = [h_1, \\dots, h_T] \\in R^{T \\times N \\times K}\n",
    "$$"
   ]
  },
  {
   "cell_type": "markdown",
   "metadata": {},
   "source": [
    "<font color=\"red\"><strong>NOTE:</strong></font>\n",
    "\n",
    "In real-life RNN models, the orders of $T$ and $N$ are actually exchangeable by specifying certain model parameters, which are `time_major` in Tensorflow and `batch_first` in PyTorch. \n",
    "\n",
    "Use whatever you like in your implementations, but make sure to have a consistent input shape. "
   ]
  },
  {
   "cell_type": "markdown",
   "metadata": {},
   "source": [
    "<span style=\"color:red\">__TODO:__</span> Answer the question: \n",
    "\n",
    "We talked about two usages of an RNN model: \n",
    "\n",
    "- Return only $h_T$\n",
    "- Return all $H = [h_1, \\dots, h_T]$\n",
    "\n",
    "In the context of our XOR function, which one should we use? "
   ]
  },
  {
   "cell_type": "markdown",
   "metadata": {},
   "source": [
    "<span style=\"color:red\">__Answer:__</span>\n",
    "\n",
    "$$\\text{Write your answer here.}$$"
   ]
  },
  {
   "cell_type": "markdown",
   "metadata": {},
   "source": [
    "In the context of our XOR function only $h_{\\tau}$ should be used, as we only need a binary output and returning all H would be unnecessairy"
   ]
  },
  {
   "cell_type": "markdown",
   "metadata": {},
   "source": [
    "<font color=\"red\"><strong>HINT:</strong></font>\n",
    "\n",
    "Upon answering the question above, think about how this is done with Tensorflow. Please reference [`LSTM` documents](https://www.tensorflow.org/api_docs/python/tf/keras/layers/LSTM). "
   ]
  },
  {
   "cell_type": "markdown",
   "metadata": {},
   "source": [
    "#### Hint for creating a model with LSTM\n",
    "\n",
    "```\n",
    "model = tf.keras.Sequential() \n",
    "model.add([LAYER1])\n",
    "model.add([LAYER2])\n",
    "model.add([...])\n",
    "model.add([OUTPUT_LAYER])\n",
    "\n",
    "model.summary() \n",
    "model.compile(loss=[LOSS_FUNCTION], optimizer=[OPTIMIZER], metrics=['accuracy'])\n",
    "\n",
    "history_LSTM = model.fit(in_data, out_data, batch_size=64, epochs=15) \n",
    "```"
   ]
  },
  {
   "cell_type": "markdown",
   "metadata": {},
   "source": [
    "<span style=\"color:red\">__TODO:__</span> Build a LSTM Network"
   ]
  },
  {
   "cell_type": "code",
   "execution_count": 13,
   "metadata": {
    "pycharm": {
     "is_executing": true
    }
   },
   "outputs": [
    {
     "name": "stdout",
     "output_type": "stream",
     "text": [
      "Model: \"sequential_2\"\n",
      "_________________________________________________________________\n",
      "Layer (type)                 Output Shape              Param #   \n",
      "=================================================================\n",
      "lstm (LSTM)                  (None, 8)                 320       \n",
      "_________________________________________________________________\n",
      "dense_3 (Dense)              (None, 8)                 72        \n",
      "_________________________________________________________________\n",
      "dense_4 (Dense)              (None, 8)                 72        \n",
      "=================================================================\n",
      "Total params: 464\n",
      "Trainable params: 464\n",
      "Non-trainable params: 0\n",
      "_________________________________________________________________\n",
      "Epoch 1/40\n",
      "32/32 - 1s - loss: 0.7148 - accuracy: 0.2400\n",
      "Epoch 2/40\n",
      "32/32 - 0s - loss: 0.7052 - accuracy: 0.2400\n",
      "Epoch 3/40\n",
      "32/32 - 0s - loss: 0.6991 - accuracy: 0.2400\n",
      "Epoch 4/40\n",
      "32/32 - 0s - loss: 0.6955 - accuracy: 0.2400\n",
      "Epoch 5/40\n",
      "32/32 - 0s - loss: 0.6937 - accuracy: 0.2730\n",
      "Epoch 6/40\n",
      "32/32 - 0s - loss: 0.6931 - accuracy: 0.4770\n",
      "Epoch 7/40\n",
      "32/32 - 0s - loss: 0.6926 - accuracy: 0.5020\n",
      "Epoch 8/40\n",
      "32/32 - 0s - loss: 0.6922 - accuracy: 0.4960\n",
      "Epoch 9/40\n",
      "32/32 - 0s - loss: 0.6918 - accuracy: 0.5230\n",
      "Epoch 10/40\n",
      "32/32 - 0s - loss: 0.6914 - accuracy: 0.5170\n",
      "Epoch 11/40\n",
      "32/32 - 0s - loss: 0.6909 - accuracy: 0.5260\n",
      "Epoch 12/40\n",
      "32/32 - 0s - loss: 0.6900 - accuracy: 0.5110\n",
      "Epoch 13/40\n",
      "32/32 - 0s - loss: 0.6888 - accuracy: 0.5070\n",
      "Epoch 14/40\n",
      "32/32 - 0s - loss: 0.6864 - accuracy: 0.4730\n",
      "Epoch 15/40\n",
      "32/32 - 0s - loss: 0.6824 - accuracy: 0.4670\n",
      "Epoch 16/40\n",
      "32/32 - 0s - loss: 0.6762 - accuracy: 0.4680\n",
      "Epoch 17/40\n",
      "32/32 - 0s - loss: 0.6678 - accuracy: 0.5190\n",
      "Epoch 18/40\n",
      "32/32 - 0s - loss: 0.6604 - accuracy: 0.5510\n",
      "Epoch 19/40\n",
      "32/32 - 0s - loss: 0.6539 - accuracy: 0.5630\n",
      "Epoch 20/40\n",
      "32/32 - 0s - loss: 0.6472 - accuracy: 0.6030\n",
      "Epoch 21/40\n",
      "32/32 - 0s - loss: 0.6409 - accuracy: 0.6310\n",
      "Epoch 22/40\n",
      "32/32 - 0s - loss: 0.6358 - accuracy: 0.6370\n",
      "Epoch 23/40\n",
      "32/32 - 0s - loss: 0.6313 - accuracy: 0.6370\n",
      "Epoch 24/40\n",
      "32/32 - 0s - loss: 0.6278 - accuracy: 0.6370\n",
      "Epoch 25/40\n",
      "32/32 - 0s - loss: 0.6248 - accuracy: 0.6370\n",
      "Epoch 26/40\n",
      "32/32 - 0s - loss: 0.6223 - accuracy: 0.6370\n",
      "Epoch 27/40\n",
      "32/32 - 0s - loss: 0.6202 - accuracy: 0.6370\n",
      "Epoch 28/40\n",
      "32/32 - 0s - loss: 0.6185 - accuracy: 0.6370\n",
      "Epoch 29/40\n",
      "32/32 - 0s - loss: 0.6171 - accuracy: 0.6420\n",
      "Epoch 30/40\n",
      "32/32 - 0s - loss: 0.6159 - accuracy: 0.6550\n",
      "Epoch 31/40\n",
      "32/32 - 0s - loss: 0.6147 - accuracy: 0.6490\n",
      "Epoch 32/40\n",
      "32/32 - 0s - loss: 0.6138 - accuracy: 0.6090\n",
      "Epoch 33/40\n",
      "32/32 - 0s - loss: 0.6127 - accuracy: 0.5630\n",
      "Epoch 34/40\n",
      "32/32 - 0s - loss: 0.6118 - accuracy: 0.5760\n",
      "Epoch 35/40\n",
      "32/32 - 0s - loss: 0.6108 - accuracy: 0.6060\n",
      "Epoch 36/40\n",
      "32/32 - 0s - loss: 0.6098 - accuracy: 0.6350\n",
      "Epoch 37/40\n",
      "32/32 - 0s - loss: 0.6088 - accuracy: 0.6200\n",
      "Epoch 38/40\n",
      "32/32 - 0s - loss: 0.6079 - accuracy: 0.6410\n",
      "Epoch 39/40\n",
      "32/32 - 0s - loss: 0.6073 - accuracy: 0.6370\n",
      "Epoch 40/40\n",
      "32/32 - 0s - loss: 0.6065 - accuracy: 0.7340\n",
      "Input data: (1000, 8, 1) int64\n",
      "Labels: (1000, 8) int64\n"
     ]
    }
   ],
   "source": [
    "###################################################\n",
    "# TODO: Build a network with LSTM and train it.   #\n",
    "#                                                 #\n",
    "###################################################\n",
    "\n",
    "model = tf.keras.Sequential([\n",
    "    tf.keras.layers.Input(shape=(8, 1)),  \n",
    "    tf.keras.layers.LSTM(8, return_sequences=False),  \n",
    "    tf.keras.layers.Dense(8, activation='sigmoid'),\n",
    "    tf.keras.layers.Dense(8, activation='sigmoid'),\n",
    "])\n",
    "\n",
    "model.summary()\n",
    "model.compile(\n",
    "    loss='binary_crossentropy',  \n",
    "    optimizer=tf.keras.optimizers.Adam(learning_rate=0.001),  \n",
    "    metrics=['accuracy']  \n",
    ")\n",
    "history_LSTM = model.fit(\n",
    "    in_data, \n",
    "    out_data, \n",
    "    batch_size=32, \n",
    "    epochs=40, verbose=2\n",
    ")\n",
    "\n",
    "\n",
    "print('Input data:', in_data.shape, in_data.dtype)\n",
    "print('Labels:', out_data.shape, out_data.dtype)\n",
    "\n",
    "###################################################\n",
    "# END TODO                                        #\n",
    "###################################################"
   ]
  },
  {
   "cell_type": "markdown",
   "metadata": {},
   "source": [
    "### Build a Network with GRU"
   ]
  },
  {
   "cell_type": "code",
   "execution_count": 14,
   "metadata": {
    "pycharm": {
     "is_executing": true
    }
   },
   "outputs": [
    {
     "name": "stdout",
     "output_type": "stream",
     "text": [
      "Input data: (1000, 8, 1) int64\n",
      "Labels: (1000, 8) int64\n"
     ]
    }
   ],
   "source": [
    "in_data, out_data = create_xor_dataset(1000) # Create a dataset with a batch size of 1000\n",
    "print('Input data:', in_data.shape, in_data.dtype)\n",
    "print('Labels:', out_data.shape, out_data.dtype)"
   ]
  },
  {
   "cell_type": "markdown",
   "metadata": {},
   "source": [
    "<span style=\"color:red\">__TODO:__</span> Build a GRU Network"
   ]
  },
  {
   "cell_type": "code",
   "execution_count": 33,
   "metadata": {},
   "outputs": [
    {
     "name": "stdout",
     "output_type": "stream",
     "text": [
      "WARNING:tensorflow:Layer gru_12 will not use cuDNN kernel since it doesn't meet the cuDNN kernel criteria. It will use generic GPU kernel as fallback when running on GPU\n",
      "WARNING:tensorflow:Layer gru_13 will not use cuDNN kernel since it doesn't meet the cuDNN kernel criteria. It will use generic GPU kernel as fallback when running on GPU\n",
      "Model: \"sequential_9\"\n",
      "_________________________________________________________________\n",
      "Layer (type)                 Output Shape              Param #   \n",
      "=================================================================\n",
      "gru_12 (GRU)                 (None, 8, 32)             3360      \n",
      "_________________________________________________________________\n",
      "dropout_7 (Dropout)          (None, 8, 32)             0         \n",
      "_________________________________________________________________\n",
      "gru_13 (GRU)                 (None, 8, 16)             2400      \n",
      "_________________________________________________________________\n",
      "time_distributed_8 (TimeDist (None, 8, 16)             272       \n",
      "_________________________________________________________________\n",
      "dropout_8 (Dropout)          (None, 8, 16)             0         \n",
      "_________________________________________________________________\n",
      "time_distributed_9 (TimeDist (None, 8, 1)              17        \n",
      "=================================================================\n",
      "Total params: 6,049\n",
      "Trainable params: 6,049\n",
      "Non-trainable params: 0\n",
      "_________________________________________________________________\n",
      "Epoch 1/60\n",
      "16/16 - 2s - loss: 0.6937 - accuracy: 0.4952\n",
      "Epoch 2/60\n",
      "16/16 - 0s - loss: 0.6918 - accuracy: 0.5178\n",
      "Epoch 3/60\n",
      "16/16 - 0s - loss: 0.6900 - accuracy: 0.5140\n",
      "Epoch 4/60\n",
      "16/16 - 0s - loss: 0.6886 - accuracy: 0.5193\n",
      "Epoch 5/60\n",
      "16/16 - 0s - loss: 0.6861 - accuracy: 0.5240\n",
      "Epoch 6/60\n",
      "16/16 - 0s - loss: 0.6833 - accuracy: 0.5599\n",
      "Epoch 7/60\n",
      "16/16 - 0s - loss: 0.6775 - accuracy: 0.5806\n",
      "Epoch 8/60\n",
      "16/16 - 0s - loss: 0.6770 - accuracy: 0.5819\n",
      "Epoch 9/60\n",
      "16/16 - 0s - loss: 0.6717 - accuracy: 0.5923\n",
      "Epoch 10/60\n",
      "16/16 - 0s - loss: 0.6689 - accuracy: 0.5992\n",
      "Epoch 11/60\n",
      "16/16 - 0s - loss: 0.6661 - accuracy: 0.5900\n",
      "Epoch 12/60\n",
      "16/16 - 0s - loss: 0.6592 - accuracy: 0.5955\n",
      "Epoch 13/60\n",
      "16/16 - 0s - loss: 0.6580 - accuracy: 0.6014\n",
      "Epoch 14/60\n",
      "16/16 - 0s - loss: 0.6552 - accuracy: 0.5980\n",
      "Epoch 15/60\n",
      "16/16 - 0s - loss: 0.6575 - accuracy: 0.5856\n",
      "Epoch 16/60\n",
      "16/16 - 0s - loss: 0.6523 - accuracy: 0.5919\n",
      "Epoch 17/60\n",
      "16/16 - 0s - loss: 0.6507 - accuracy: 0.5887\n",
      "Epoch 18/60\n",
      "16/16 - 0s - loss: 0.6456 - accuracy: 0.5936\n",
      "Epoch 19/60\n",
      "16/16 - 0s - loss: 0.6375 - accuracy: 0.6074\n",
      "Epoch 20/60\n",
      "16/16 - 0s - loss: 0.6391 - accuracy: 0.6057\n",
      "Epoch 21/60\n",
      "16/16 - 0s - loss: 0.6338 - accuracy: 0.6100\n",
      "Epoch 22/60\n",
      "16/16 - 0s - loss: 0.6320 - accuracy: 0.6080\n",
      "Epoch 23/60\n",
      "16/16 - 0s - loss: 0.6207 - accuracy: 0.6223\n",
      "Epoch 24/60\n",
      "16/16 - 0s - loss: 0.6169 - accuracy: 0.6276\n",
      "Epoch 25/60\n",
      "16/16 - 0s - loss: 0.6206 - accuracy: 0.6179\n",
      "Epoch 26/60\n",
      "16/16 - 0s - loss: 0.6188 - accuracy: 0.6169\n",
      "Epoch 27/60\n",
      "16/16 - 0s - loss: 0.6121 - accuracy: 0.6160\n",
      "Epoch 28/60\n",
      "16/16 - 0s - loss: 0.6052 - accuracy: 0.6290\n",
      "Epoch 29/60\n",
      "16/16 - 0s - loss: 0.5993 - accuracy: 0.6333\n",
      "Epoch 30/60\n",
      "16/16 - 0s - loss: 0.5936 - accuracy: 0.6265\n",
      "Epoch 31/60\n",
      "16/16 - 0s - loss: 0.5810 - accuracy: 0.6443\n",
      "Epoch 32/60\n",
      "16/16 - 0s - loss: 0.5904 - accuracy: 0.6407\n",
      "Epoch 33/60\n",
      "16/16 - 0s - loss: 0.5737 - accuracy: 0.6483\n",
      "Epoch 34/60\n",
      "16/16 - 0s - loss: 0.5734 - accuracy: 0.6582\n",
      "Epoch 35/60\n",
      "16/16 - 0s - loss: 0.5567 - accuracy: 0.6658\n",
      "Epoch 36/60\n",
      "16/16 - 0s - loss: 0.5496 - accuracy: 0.6738\n",
      "Epoch 37/60\n",
      "16/16 - 0s - loss: 0.5264 - accuracy: 0.6895\n",
      "Epoch 38/60\n",
      "16/16 - 0s - loss: 0.5271 - accuracy: 0.6940\n",
      "Epoch 39/60\n",
      "16/16 - 0s - loss: 0.5166 - accuracy: 0.7062\n",
      "Epoch 40/60\n",
      "16/16 - 0s - loss: 0.5072 - accuracy: 0.7207\n",
      "Epoch 41/60\n",
      "16/16 - 0s - loss: 0.5078 - accuracy: 0.7224\n",
      "Epoch 42/60\n",
      "16/16 - 0s - loss: 0.4876 - accuracy: 0.7455\n",
      "Epoch 43/60\n",
      "16/16 - 0s - loss: 0.4837 - accuracy: 0.7482\n",
      "Epoch 44/60\n",
      "16/16 - 0s - loss: 0.4669 - accuracy: 0.7610\n",
      "Epoch 45/60\n",
      "16/16 - 0s - loss: 0.4541 - accuracy: 0.7627\n",
      "Epoch 46/60\n",
      "16/16 - 0s - loss: 0.4582 - accuracy: 0.7606\n",
      "Epoch 47/60\n",
      "16/16 - 0s - loss: 0.4589 - accuracy: 0.7614\n",
      "Epoch 48/60\n",
      "16/16 - 0s - loss: 0.4473 - accuracy: 0.7710\n",
      "Epoch 49/60\n",
      "16/16 - 0s - loss: 0.4404 - accuracy: 0.7789\n",
      "Epoch 50/60\n",
      "16/16 - 0s - loss: 0.4374 - accuracy: 0.7798\n",
      "Epoch 51/60\n",
      "16/16 - 0s - loss: 0.4344 - accuracy: 0.7902\n",
      "Epoch 52/60\n",
      "16/16 - 0s - loss: 0.4286 - accuracy: 0.7935\n",
      "Epoch 53/60\n",
      "16/16 - 0s - loss: 0.4172 - accuracy: 0.8036\n",
      "Epoch 54/60\n",
      "16/16 - 0s - loss: 0.4014 - accuracy: 0.8230\n",
      "Epoch 55/60\n",
      "16/16 - 0s - loss: 0.3732 - accuracy: 0.8390\n",
      "Epoch 56/60\n",
      "16/16 - 0s - loss: 0.3769 - accuracy: 0.8424\n",
      "Epoch 57/60\n",
      "16/16 - 0s - loss: 0.3650 - accuracy: 0.8556\n",
      "Epoch 58/60\n",
      "16/16 - 0s - loss: 0.3521 - accuracy: 0.8588\n",
      "Epoch 59/60\n",
      "16/16 - 0s - loss: 0.3450 - accuracy: 0.8761\n",
      "Epoch 60/60\n",
      "16/16 - 0s - loss: 0.3427 - accuracy: 0.8702\n"
     ]
    }
   ],
   "source": [
    "###################################################\n",
    "# TODO: Build a model with GRU and train it.      #\n",
    "#                                                 #\n",
    "###################################################\n",
    "model = tf.keras.Sequential([\n",
    "    tf.keras.layers.Input(shape=(8, 1)),  # Input layer matching the data shape (seq_len, features)\n",
    "    tf.keras.layers.GRU(32, return_sequences=True, dropout=0.2, recurrent_dropout=0.2),  # GRU with dropout\n",
    "    tf.keras.layers.Dropout(0.3),  # Extra dropout for regularization\n",
    "    tf.keras.layers.GRU(16, return_sequences=True, dropout=0.2, recurrent_dropout=0.2),  # Second GRU layer\n",
    "    tf.keras.layers.TimeDistributed(tf.keras.layers.Dense(16, activation='relu')),  # Intermediate Dense layer\n",
    "    tf.keras.layers.Dropout(0.3),  # Dropout after Dense layer\n",
    "    tf.keras.layers.TimeDistributed(tf.keras.layers.Dense(1, activation='sigmoid'))  # Final output layer\n",
    "])\n",
    "\n",
    "# Print model summary\n",
    "model.summary()\n",
    "\n",
    "# Compile the model\n",
    "model.compile(\n",
    "    loss='binary_crossentropy',  # Binary classification loss for each time step\n",
    "    optimizer=tf.keras.optimizers.Adam(learning_rate=0.001),  # Adam optimizer\n",
    "    metrics=['accuracy']  # Accuracy metric\n",
    ")\n",
    "\n",
    "# Train the model\n",
    "history_GRU = model.fit(\n",
    "    in_data, \n",
    "    out_data, \n",
    "    batch_size=64, \n",
    "    epochs=60, \n",
    "    verbose=2\n",
    ")\n",
    "\n",
    "# Evaluate the model\n",
    "# Evaluate the model\n",
    "loss, accuracy = model.evaluate(in_data, out_data, verbose=0)\n",
    "\n",
    "\n",
    "###################################################\n",
    "# END TODO                                        #\n",
    "###################################################"
   ]
  },
  {
   "cell_type": "markdown",
   "metadata": {},
   "source": [
    "### Visualize Loss and Accuracy"
   ]
  },
  {
   "cell_type": "code",
   "execution_count": 34,
   "metadata": {},
   "outputs": [
    {
     "data": {
      "image/png": "[encoded data removed]",
      "text/plain": [
       "<Figure size 432x288 with 1 Axes>"
      ]
     },
     "metadata": {
      "needs_background": "light"
     },
     "output_type": "display_data"
    }
   ],
   "source": [
    "plt.plot(history_LSTM.history['loss'], label='LSTM')\n",
    "plt.plot(history_GRU.history['loss'], label='GRU')\n",
    "plt.title('LSTM/GRU loss')\n",
    "plt.ylabel('loss')\n",
    "plt.xlabel('No. epoch')\n",
    "plt.legend(loc=\"upper left\")\n",
    "plt.show()"
   ]
  },
  {
   "cell_type": "code",
   "execution_count": 35,
   "metadata": {},
   "outputs": [
    {
     "data": {
      "image/png": "[encoded data removed]",
      "text/plain": [
       "<Figure size 432x288 with 1 Axes>"
      ]
     },
     "metadata": {
      "needs_background": "light"
     },
     "output_type": "display_data"
    }
   ],
   "source": [
    "plt.plot(history_LSTM.history['accuracy'], label='LSTM')\n",
    "plt.plot(history_GRU.history['accuracy'], label='GRU')\n",
    "plt.title('LSTM/GRU accuracy')\n",
    "plt.ylabel('accuracy')\n",
    "plt.xlabel('No. epoch')\n",
    "plt.legend(loc=\"upper left\")\n",
    "plt.show()"
   ]
  },
  {
   "cell_type": "markdown",
   "metadata": {},
   "source": [
    "<span style=\"color:red\">__TODO:__</span> Answer the question:\n",
    "\n",
    "Which part of this task have you been struggling with the most? Describe how you resolved it."
   ]
  },
  {
   "cell_type": "markdown",
   "metadata": {},
   "source": [
    "<span style=\"color:red\">__Answer:__</span>\n",
    "\n"
   ]
  },
  {
   "cell_type": "markdown",
   "metadata": {},
   "source": [
    "The task that I was struggling most with was the level of accuracy of my model. Hence I took several actions to increase its capacity, trying not to create a very costly model. Hence, I first increased the numbers of epochs and then the number of layers"
   ]
  },
  {
   "cell_type": "markdown",
   "metadata": {},
   "source": [
    "<span style=\"color:red\">__TODO:__</span> Answer the question:\n",
    "\n",
    "Which loss function did you use? Why?"
   ]
  },
  {
   "cell_type": "markdown",
   "metadata": {},
   "source": [
    "<span style=\"color:red\">__Answer:__</span>\n",
    "\n"
   ]
  },
  {
   "cell_type": "markdown",
   "metadata": {},
   "source": [
    "I used the binary cross-entropy because it is about binary classification"
   ]
  },
  {
   "cell_type": "markdown",
   "metadata": {},
   "source": [
    "## Part 3:  Build your own LSTMCell (25%)\n",
    "\n",
    "In this part, you will code your own LSTM Cell implementation (including different types of gates that constitute the cell) to build LSTM layers.\n",
    "\n",
    "It is recommended to see the course slides and [`LSTM` source code](https://github.com/keras-team/keras/blob/v2.10.0/keras/layers/rnn/lstm.py). [This link](https://colah.github.io/posts/2015-08-Understanding-LSTMs) also provides a good intuition. \n",
    "\n",
    "![](./img/lstm_cell.png)\n",
    "\n",
    "**Note that this is a simplified figure and not all operations are illustrated.** Please refer to the lectures and follow the equations. "
   ]
  },
  {
   "cell_type": "markdown",
   "metadata": {},
   "source": [
    "Assuming some **old** carry state $c_{t-1}$ and hidden state $h_{t-1}$, we try to compute the **new states** given some input $X_t$ using the ideas of LSTM. \n",
    "\n",
    "Remember that for an LSTM cell, we actually have (yellow boxes from left to right) a **forget gate**, an **input gate**, a **cell** and an **output gate**, whose output can be denoted by $f_{t-1}$, $i_{t-1}$, $\\tilde{c}_{t-1}$ and $o_{t-1}$. Each yellow box in the graph denotes a linear projection followed by a particular activation (`sigmoid` or `tanh`). \n",
    "\n",
    "Then for some input $X_t \\in R^{N \\times D}$ and a target output dimension $K$ (also called \"units\"), let's first combine the inputs with the old hidden state $h_{t-1} \\in R^{N \\times K}$ by projecting them into the same dimension \n",
    "\n",
    "$$\n",
    "Z_t = X_t + h_{t-1} W_h\n",
    "$$\n",
    "\n",
    "where $W_h \\in R^{K \\times D}$. Then all new states can be computed one by one as \n",
    "\n",
    "$$\n",
    "\\begin{cases}\n",
    "f_t = \\sigma (Z_t W_f) \\\\\n",
    "i_t = \\sigma (Z_t W_i) \\\\\n",
    "\\tilde{c}_t = \\tanh (Z_t W_c) \\\\\n",
    "o_t = \\sigma (Z_t W_o)\n",
    "\\end{cases}\n",
    "$$\n",
    "\n",
    "where the weights (also called kernels)\n",
    "\n",
    "$$\n",
    "W_f, W_i, W_c, W_o \\in R^{D \\times K}\n",
    "$$\n",
    "\n",
    "Then the **new** carry state is given by the **old carry state** passing through the forget gate and combining with the input\n",
    "\n",
    "$$\n",
    "c_t = f_t \\odot c_{t-1} + i_t \\odot \\tilde{c}_t\n",
    "$$\n",
    "\n",
    "and the hidden state is given by the **new carry state** passing through the output gate\n",
    "\n",
    "$$\n",
    "h_t = o_t \\odot \\tanh (c_t)\n",
    "$$"
   ]
  },
  {
   "cell_type": "markdown",
   "metadata": {},
   "source": [
    "Note that when computing each state, we are actually computing the four linear projections on $Z_t$, which is **four** projections on $X_t$ and **eight** (because of the $W_h$) projections on $h_{t-1}$. This doesn't look smart enough, so let's rewrite the equations. \n",
    "\n",
    "First define a kernel $W \\in R^{D \\times 4 K}$, which can be thought of as\n",
    "\n",
    "$$\n",
    "W \\gets [W_f, W_i, W_c, W_o]\n",
    "$$\n",
    "\n",
    "Similarly define a recurrent kernel $W_r \\in R^{K \\times 4 K}$, which is equivalent to \n",
    "\n",
    "$$\n",
    "W_r \\gets W_h W = [W_h W_f, W_h W_i, W_h W_c, W_h W_o]\n",
    "$$\n",
    "\n",
    "\n",
    "We can, of course, also add a bias $b \\in R^{4 K}$, and now all the projections simplifies to \n",
    "\n",
    "$$\n",
    "Z_t = X_t W + h_{t-1} W_r + \\mathbb{1} b^T \\in R^{N \\times 4 K}\n",
    "$$\n",
    "\n",
    "We do exactly **one** projection on $X_t$ and **one** on $h_{t-1}$. Then we partition $Z_t$ into \n",
    "\n",
    "$$\n",
    "[z_t^f, z_t^i, z_t^c, z_t^o] \\gets Z_t, \\quad\n",
    "z_t^* \\in R^{N \\times K}\n",
    "$$\n",
    "\n",
    "Easily, \n",
    "\n",
    "$$\n",
    "\\begin{cases}\n",
    "f_t = \\sigma (z_t^f) \\\\\n",
    "i_t = \\sigma (z_t^i) \\\\\n",
    "\\tilde{c}_t = \\tanh (z_t^c) \\\\\n",
    "o_t = \\sigma (z_t^o)\n",
    "\\end{cases}\n",
    "$$\n",
    "\n",
    "and the rest stays the same. "
   ]
  },
  {
   "cell_type": "markdown",
   "metadata": {},
   "source": [
    "<span style=\"color:red\">__TODO:__</span> \n",
    "\n",
    "1. Complete the model `LSTMCell` in **utils/LSTM.py**\n",
    "2. Verify the function with Tensorflow by running the provided code"
   ]
  },
  {
   "cell_type": "markdown",
   "metadata": {},
   "source": [
    "<span style=\"color:red\">__NOTE:__</span> \n",
    "\n",
    "You should use the \"simplified\" (second) set of equations as TensorFlow does. "
   ]
  },
  {
   "cell_type": "code",
   "execution_count": 18,
   "metadata": {},
   "outputs": [
    {
     "name": "stdout",
     "output_type": "stream",
     "text": [
      "Simple verification:\n",
      "Is h correct? True\n",
      "Is c correct? True\n"
     ]
    }
   ],
   "source": [
    "# Veirification Code\n",
    "# Please don't change anything\n",
    "\n",
    "from utils.LSTM import LSTMCell\n",
    "\n",
    "batch_size = 4\n",
    "input_dim = 8\n",
    "units = 64\n",
    "\n",
    "inputs = tf.random.normal((batch_size, input_dim))\n",
    "states = [tf.random.normal((batch_size, units)), tf.zeros((batch_size, units))]\n",
    "\n",
    "# By default, the weights will be initialized randomly (as specified in the code). \n",
    "# Here we try to enforce deterministic (non-random) initializers \n",
    "# so that the two results can be correctly compared. \n",
    "# NOTE: You should NOT do this and leave them to default during actual training\n",
    "\n",
    "lstm_cell = LSTMCell(\n",
    "    units, \n",
    "    kernel_initializer=tf.keras.initializers.Ones, \n",
    "    recurrent_initializer=tf.keras.initializers.Ones, \n",
    "    bias_initializer=tf.keras.initializers.Zeros\n",
    ")\n",
    "h, (_, c) = lstm_cell(inputs, states)\n",
    "\n",
    "lstm_cell_tf = tf.keras.layers.LSTMCell(\n",
    "    units, \n",
    "    kernel_initializer='ones', \n",
    "    recurrent_initializer='ones', \n",
    "    bias_initializer='zeros'\n",
    ")\n",
    "h_tf, (_, c_tf) = lstm_cell_tf(inputs, states)\n",
    "\n",
    "print('Simple verification:')\n",
    "print('Is h correct?', np.allclose(h.numpy(), h_tf.numpy()))\n",
    "print('Is c correct?', np.allclose(c.numpy(), c_tf.numpy()))"
   ]
  },
  {
   "cell_type": "code",
   "execution_count": 32,
   "metadata": {},
   "outputs": [],
   "source": [
    "in_data, out_data = create_xor_dataset(1024)# Create a dataset with a batch size of 1000"
   ]
  },
  {
   "cell_type": "markdown",
   "metadata": {},
   "source": [
    "#### Hint on building a model with your LSTMCell\n",
    "\n",
    "When creating an RNN with your custom cell, you can just plug in your `LSTMCell` as a building block into a basic `RNN` layer, specify other parameters (e.g. input_shape) as needed, and add it into your model as you did with other layers before. \n",
    "\n",
    "```\n",
    "self.rnn = tf.keras.layers.RNN([YOUR_CELL], **OTHER_ARGS)\n",
    "```\n",
    "\n",
    "For details, please refer to https://www.tensorflow.org/guide/keras/rnn. "
   ]
  },
  {
   "cell_type": "markdown",
   "metadata": {},
   "source": [
    "<span style=\"color:red\">__TODO:__</span> Complete the model `LSTMModel` in **utils/LSTM.py**"
   ]
  },
  {
   "cell_type": "markdown",
   "metadata": {},
   "source": [
    "<span style=\"color:red\">__NOTE:__</span> \n",
    "\n",
    "We are trying to use a custom layer (our `LSTMCell`) with multiple `call` arguments (\"inputs\" and \"states\"). The pre-building of these types of models is currently NOT allowed in tensorflow. \n",
    "\n",
    "So be sure NOT to call `model.summary()`. Compile and fit it directly and the building will be automatically done in runtime. "
   ]
  },
  {
   "cell_type": "markdown",
   "metadata": {},
   "source": [
    "<span style=\"color:red\">__TODO:__</span> Train your `LSTMModel`"
   ]
  },
  {
   "cell_type": "code",
   "execution_count": 30,
   "metadata": {},
   "outputs": [
    {
     "name": "stdout",
     "output_type": "stream",
     "text": [
      "Epoch 1/75\n",
      "16/16 - 1s - loss: 0.6934 - accuracy: 0.3867\n",
      "Epoch 2/75\n",
      "16/16 - 0s - loss: 0.6931 - accuracy: 0.2949\n",
      "Epoch 3/75\n",
      "16/16 - 0s - loss: 0.6931 - accuracy: 0.2646\n",
      "Epoch 4/75\n",
      "16/16 - 0s - loss: 0.6930 - accuracy: 0.2686\n",
      "Epoch 5/75\n",
      "16/16 - 0s - loss: 0.6929 - accuracy: 0.2021\n",
      "Epoch 6/75\n",
      "16/16 - 0s - loss: 0.6929 - accuracy: 0.1104\n",
      "Epoch 7/75\n",
      "16/16 - 0s - loss: 0.6929 - accuracy: 0.0596\n",
      "Epoch 8/75\n",
      "16/16 - 0s - loss: 0.6928 - accuracy: 0.0840\n",
      "Epoch 9/75\n",
      "16/16 - 0s - loss: 0.6928 - accuracy: 0.0723\n",
      "Epoch 10/75\n",
      "16/16 - 0s - loss: 0.6928 - accuracy: 0.0537\n",
      "Epoch 11/75\n",
      "16/16 - 0s - loss: 0.6927 - accuracy: 0.1025\n",
      "Epoch 12/75\n",
      "16/16 - 0s - loss: 0.6925 - accuracy: 0.1562\n",
      "Epoch 13/75\n",
      "16/16 - 0s - loss: 0.6924 - accuracy: 0.2412\n",
      "Epoch 14/75\n",
      "16/16 - 0s - loss: 0.6921 - accuracy: 0.3076\n",
      "Epoch 15/75\n",
      "16/16 - 0s - loss: 0.6917 - accuracy: 0.3779\n",
      "Epoch 16/75\n",
      "16/16 - 0s - loss: 0.6903 - accuracy: 0.4609\n",
      "Epoch 17/75\n",
      "16/16 - 0s - loss: 0.6864 - accuracy: 0.4482\n",
      "Epoch 18/75\n",
      "16/16 - 0s - loss: 0.6761 - accuracy: 0.4131\n",
      "Epoch 19/75\n",
      "16/16 - 0s - loss: 0.6563 - accuracy: 0.3779\n",
      "Epoch 20/75\n",
      "16/16 - 0s - loss: 0.6361 - accuracy: 0.3789\n",
      "Epoch 21/75\n",
      "16/16 - 0s - loss: 0.6245 - accuracy: 0.4580\n",
      "Epoch 22/75\n",
      "16/16 - 0s - loss: 0.6147 - accuracy: 0.5508\n",
      "Epoch 23/75\n",
      "16/16 - 0s - loss: 0.6034 - accuracy: 0.6084\n",
      "Epoch 24/75\n",
      "16/16 - 0s - loss: 0.5945 - accuracy: 0.6338\n",
      "Epoch 25/75\n",
      "16/16 - 0s - loss: 0.5861 - accuracy: 0.7021\n",
      "Epoch 26/75\n",
      "16/16 - 0s - loss: 0.5766 - accuracy: 0.7334\n",
      "Epoch 27/75\n",
      "16/16 - 0s - loss: 0.5680 - accuracy: 0.7510\n",
      "Epoch 28/75\n",
      "16/16 - 0s - loss: 0.5589 - accuracy: 0.7578\n",
      "Epoch 29/75\n",
      "16/16 - 0s - loss: 0.5509 - accuracy: 0.7432\n",
      "Epoch 30/75\n",
      "16/16 - 0s - loss: 0.5435 - accuracy: 0.7334\n",
      "Epoch 31/75\n",
      "16/16 - 0s - loss: 0.5372 - accuracy: 0.7314\n",
      "Epoch 32/75\n",
      "16/16 - 0s - loss: 0.5316 - accuracy: 0.7783\n",
      "Epoch 33/75\n",
      "16/16 - 0s - loss: 0.5265 - accuracy: 0.7861\n",
      "Epoch 34/75\n",
      "16/16 - 0s - loss: 0.5222 - accuracy: 0.7754\n",
      "Epoch 35/75\n",
      "16/16 - 0s - loss: 0.5181 - accuracy: 0.7695\n",
      "Epoch 36/75\n",
      "16/16 - 0s - loss: 0.5144 - accuracy: 0.7715\n",
      "Epoch 37/75\n",
      "16/16 - 0s - loss: 0.5112 - accuracy: 0.7705\n",
      "Epoch 38/75\n",
      "16/16 - 0s - loss: 0.5078 - accuracy: 0.7715\n",
      "Epoch 39/75\n",
      "16/16 - 0s - loss: 0.5050 - accuracy: 0.7715\n",
      "Epoch 40/75\n",
      "16/16 - 0s - loss: 0.5025 - accuracy: 0.7764\n",
      "Epoch 41/75\n",
      "16/16 - 0s - loss: 0.4995 - accuracy: 0.7773\n",
      "Epoch 42/75\n",
      "16/16 - 0s - loss: 0.4974 - accuracy: 0.7812\n",
      "Epoch 43/75\n",
      "16/16 - 0s - loss: 0.4949 - accuracy: 0.7822\n",
      "Epoch 44/75\n",
      "16/16 - 0s - loss: 0.4924 - accuracy: 0.7842\n",
      "Epoch 45/75\n",
      "16/16 - 0s - loss: 0.4902 - accuracy: 0.7900\n",
      "Epoch 46/75\n",
      "16/16 - 0s - loss: 0.4883 - accuracy: 0.7852\n",
      "Epoch 47/75\n",
      "16/16 - 0s - loss: 0.4854 - accuracy: 0.7930\n",
      "Epoch 48/75\n",
      "16/16 - 0s - loss: 0.4835 - accuracy: 0.7881\n",
      "Epoch 49/75\n",
      "16/16 - 0s - loss: 0.4810 - accuracy: 0.7930\n",
      "Epoch 50/75\n",
      "16/16 - 0s - loss: 0.4792 - accuracy: 0.7939\n",
      "Epoch 51/75\n",
      "16/16 - 0s - loss: 0.4770 - accuracy: 0.7959\n",
      "Epoch 52/75\n",
      "16/16 - 0s - loss: 0.4744 - accuracy: 0.8018\n",
      "Epoch 53/75\n",
      "16/16 - 0s - loss: 0.4734 - accuracy: 0.8018\n",
      "Epoch 54/75\n",
      "16/16 - 0s - loss: 0.4703 - accuracy: 0.8037\n",
      "Epoch 55/75\n",
      "16/16 - 0s - loss: 0.4685 - accuracy: 0.8037\n",
      "Epoch 56/75\n",
      "16/16 - 0s - loss: 0.4667 - accuracy: 0.8047\n",
      "Epoch 57/75\n",
      "16/16 - 0s - loss: 0.4647 - accuracy: 0.8057\n",
      "Epoch 58/75\n",
      "16/16 - 0s - loss: 0.4629 - accuracy: 0.8076\n",
      "Epoch 59/75\n",
      "16/16 - 0s - loss: 0.4616 - accuracy: 0.8066\n",
      "Epoch 60/75\n",
      "16/16 - 0s - loss: 0.4613 - accuracy: 0.8086\n",
      "Epoch 61/75\n",
      "16/16 - 0s - loss: 0.4589 - accuracy: 0.8066\n",
      "Epoch 62/75\n",
      "16/16 - 0s - loss: 0.4564 - accuracy: 0.8076\n",
      "Epoch 63/75\n",
      "16/16 - 0s - loss: 0.4552 - accuracy: 0.8076\n",
      "Epoch 64/75\n",
      "16/16 - 0s - loss: 0.4536 - accuracy: 0.8105\n",
      "Epoch 65/75\n",
      "16/16 - 0s - loss: 0.4522 - accuracy: 0.8145\n",
      "Epoch 66/75\n",
      "16/16 - 0s - loss: 0.4509 - accuracy: 0.8105\n",
      "Epoch 67/75\n",
      "16/16 - 0s - loss: 0.4499 - accuracy: 0.8135\n",
      "Epoch 68/75\n",
      "16/16 - 0s - loss: 0.4486 - accuracy: 0.8184\n",
      "Epoch 69/75\n",
      "16/16 - 0s - loss: 0.4472 - accuracy: 0.8154\n",
      "Epoch 70/75\n",
      "16/16 - 0s - loss: 0.4460 - accuracy: 0.8145\n",
      "Epoch 71/75\n",
      "16/16 - 0s - loss: 0.4449 - accuracy: 0.8066\n",
      "Epoch 72/75\n",
      "16/16 - 0s - loss: 0.4440 - accuracy: 0.8047\n",
      "Epoch 73/75\n",
      "16/16 - 0s - loss: 0.4428 - accuracy: 0.8037\n",
      "Epoch 74/75\n",
      "16/16 - 0s - loss: 0.4420 - accuracy: 0.8008\n",
      "Epoch 75/75\n",
      "16/16 - 0s - loss: 0.4409 - accuracy: 0.7949\n"
     ]
    }
   ],
   "source": [
    "from utils.LSTM import LSTMModel\n",
    "\n",
    "###################################################\n",
    "# TODO: Instantiate your own model and train it.  #\n",
    "###################################################\n",
    "\n",
    "seq_len = 8\n",
    "feature_dim = 1\n",
    "output_dim = 8\n",
    "units = 16\n",
    "activation = 'sigmoid'\n",
    "\n",
    "custom_model = LSTMModel(units=units, output_dim=output_dim, activation=activation, input_shape=(seq_len, feature_dim))\n",
    "\n",
    "# Compile the custom model\n",
    "custom_model.compile(\n",
    "    loss='binary_crossentropy',  \n",
    "    optimizer=tf.keras.optimizers.Adam(learning_rate=0.001),  # Adam optimizer\n",
    "    metrics=['accuracy']  \n",
    ")\n",
    "\n",
    "# Train the custom model\n",
    "history = custom_model.fit(\n",
    "    in_data, \n",
    "    out_data, \n",
    "    batch_size=64, \n",
    "    epochs=75,  \n",
    "    verbose=2\n",
    ")\n",
    "\n",
    "\n",
    "###################################################\n",
    "# END TODO                                        #\n",
    "###################################################"
   ]
  },
  {
   "cell_type": "markdown",
   "metadata": {},
   "source": [
    "### Visualize loss and accuracy"
   ]
  },
  {
   "cell_type": "code",
   "execution_count": 31,
   "metadata": {},
   "outputs": [
    {
     "data": {
      "image/png": "[encoded data removed]",
      "text/plain": [
       "<Figure size 432x288 with 1 Axes>"
      ]
     },
     "metadata": {
      "needs_background": "light"
     },
     "output_type": "display_data"
    }
   ],
   "source": [
    "plt.plot(history.history['loss'], label='loss')\n",
    "plt.plot(history.history['accuracy'], label='accuracy')\n",
    "plt.title('Training history')\n",
    "plt.ylabel('value')\n",
    "plt.xlabel('No. epoch')\n",
    "plt.legend(loc=\"upper left\")\n",
    "plt.show()"
   ]
  },
  {
   "cell_type": "code",
   "execution_count": null,
   "metadata": {},
   "outputs": [],
   "source": []
  }
 ],
 "metadata": {
  "kernelspec": {
   "display_name": "Python 3",
   "language": "python",
   "name": "python3"
  },
  "language_info": {
   "codemirror_mode": {
    "name": "ipython",
    "version": 3
   },
   "file_extension": ".py",
   "mimetype": "text/x-python",
   "name": "python",
   "nbconvert_exporter": "python",
   "pygments_lexer": "ipython3",
   "version": "3.6.9"
  },
  "vscode": {
   "interpreter": {
    "hash": "36142657f443a869bd2c1b509e6f1df9b014ad48aa206cdd00d27f8f22cb37ba"
   }
  }
 },
 "nbformat": 4,
 "nbformat_minor": 4
}
