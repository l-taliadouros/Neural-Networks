{
 "cells": [
  {
   "cell_type": "markdown",
   "metadata": {},
   "source": [
    "## Columbia University\n",
    "### ECBM E4040 Neural Networks and Deep Learning. Fall 2024."
   ]
  },
  {
   "cell_type": "markdown",
   "metadata": {},
   "source": [
    "# Assignment 3 - Reccurent Neural Networks \n",
    "\n",
    "In this assignment, you will experiment with recurrent neural networks (RNN).\n",
    "\n",
    "### Task 1: XOR net (50%)\n",
    "\n",
    "Create an RNN network that can correctly compute the XOR operation.\n",
    "\n",
    "### Task 2: RNN Application - Time Series Forecasting (25%)\n",
    "\n",
    "Create a RNN model for predicting stock values.\n",
    "\n",
    "### Task 3: RNN Application - Neural Machine Translation (25%)\n",
    "\n",
    "Create a custom Seq2Seq Machine Translation model to translate from Dutch to English.\n"
   ]
  },
  {
   "cell_type": "markdown",
   "metadata": {},
   "source": [
    "### Submission requirements\n",
    "\n",
    "Follow the instructions from prior assignments, or README files in the GitHub.\n"
   ]
  }
 ],
 "metadata": {
  "anaconda-cloud": {},
  "kernelspec": {
   "display_name": "Python 3",
   "language": "python",
   "name": "python3"
  },
  "language_info": {
   "codemirror_mode": {
    "name": "ipython",
    "version": 3
   },
   "file_extension": ".py",
   "mimetype": "text/x-python",
   "name": "python",
   "nbconvert_exporter": "python",
   "pygments_lexer": "ipython3",
   "version": "3.6.9"
  },
  "vscode": {
   "interpreter": {
    "hash": "b0fa6594d8f4cbf19f97940f81e996739fb7646882a419484c72d19e05852a7e"
   }
  }
 },
 "nbformat": 4,
 "nbformat_minor": 4
}
